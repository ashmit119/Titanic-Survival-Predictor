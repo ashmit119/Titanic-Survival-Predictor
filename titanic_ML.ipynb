{
  "nbformat": 4,
  "nbformat_minor": 0,
  "metadata": {
    "colab": {
      "provenance": []
    },
    "kernelspec": {
      "name": "python3",
      "display_name": "Python 3"
    },
    "language_info": {
      "name": "python"
    }
  },
  "cells": [
    {
      "cell_type": "code",
      "execution_count": 15,
      "metadata": {
        "id": "108Cs_5XfJf8"
      },
      "outputs": [],
      "source": [
        "#Importing the required libraries\n",
        "import pandas as pd\n",
        "from sklearn.model_selection import train_test_split\n",
        "from sklearn.preprocessing import LabelEncoder\n",
        "from sklearn.ensemble import RandomForestClassifier\n",
        "from sklearn.metrics import accuracy_score, classification_report, confusion_matrix\n",
        "import seaborn as sns\n",
        "import matplotlib.pyplot as plt"
      ]
    },
    {
      "cell_type": "code",
      "source": [
        "# Load dataset\n",
        "df = pd.read_csv('titanic.csv')"
      ],
      "metadata": {
        "id": "2tPqoErNTvl4"
      },
      "execution_count": 16,
      "outputs": []
    },
    {
      "cell_type": "code",
      "source": [
        "# Drop unnecessary columns\n",
        "columns_to_drop = ['SibSp', 'Parch', 'Ticket', 'Cabin', 'Embarked']\n",
        "df.drop(columns=columns_to_drop, inplace=True, errors='ignore')"
      ],
      "metadata": {
        "id": "N2JQsQf6UpqU"
      },
      "execution_count": 17,
      "outputs": []
    },
    {
      "cell_type": "code",
      "source": [
        "# Handling null values in Age(filling the median age grouped by Gender and Class)\n",
        "df['Age'] = df.groupby(['Sex', 'Pclass'])['Age'].transform(lambda x: x.fillna(x.median()))"
      ],
      "metadata": {
        "id": "ye8cxuqWUzw2"
      },
      "execution_count": 18,
      "outputs": []
    },
    {
      "cell_type": "code",
      "source": [
        "# Prepare the data and Label encoding for Sex column\n",
        "titanic_data = df.dropna(subset=['Sex', 'Pclass', 'Age', 'Fare', 'Survived']).copy()\n",
        "sex_encoder = LabelEncoder()\n",
        "titanic_data['Sex'] = sex_encoder.fit_transform(titanic_data['Sex'])"
      ],
      "metadata": {
        "id": "8gkPRufcsEwJ"
      },
      "execution_count": 60,
      "outputs": []
    },
    {
      "cell_type": "code",
      "source": [
        "# Training the Random Forest model and predicting outcomes\n",
        "X = titanic_data[['Pclass', 'Sex', 'Age', 'Fare']]\n",
        "y = titanic_data['Survived']\n",
        "X_train, X_test, y_train, y_test = train_test_split( X, y, test_size=0.2, random_state=42)\n",
        "rf_model = RandomForestClassifier(n_estimators=100, random_state=42)\n",
        "rf_model.fit(X_train, y_train)\n",
        "y_pred = rf_model.predict(X_test)"
      ],
      "metadata": {
        "id": "_xz5q0hDsVH7"
      },
      "execution_count": 61,
      "outputs": []
    },
    {
      "cell_type": "code",
      "source": [
        "# Comparing the predicted outcomes with the actual values in the test set to determine accuracy\n",
        "print(\"Random Forest Model Accuracy:\", accuracy_score(y_test, y_pred))\n",
        "print(\"\\nClassification Report:\\n\", classification_report(y_test, y_pred))"
      ],
      "metadata": {
        "colab": {
          "base_uri": "https://localhost:8080/"
        },
        "id": "27ejgXSgzHvs",
        "outputId": "a461f803-4d2d-44e2-d93d-a6675625da88"
      },
      "execution_count": 62,
      "outputs": [
        {
          "output_type": "stream",
          "name": "stdout",
          "text": [
            "Random Forest Model Accuracy: 0.8156424581005587\n",
            "\n",
            "Classification Report:\n",
            "               precision    recall  f1-score   support\n",
            "\n",
            "         0.0       0.83      0.87      0.85       105\n",
            "         1.0       0.80      0.74      0.77        74\n",
            "\n",
            "    accuracy                           0.82       179\n",
            "   macro avg       0.81      0.80      0.81       179\n",
            "weighted avg       0.81      0.82      0.81       179\n",
            "\n"
          ]
        }
      ]
    },
    {
      "cell_type": "code",
      "source": [
        "# Confusion Matrix to evaluate model performance\n",
        "cm = confusion_matrix(y_test, y_pred)\n",
        "plt.figure(figsize=(5,4))\n",
        "sns.heatmap(\n",
        "    cm,\n",
        "    annot=True,\n",
        "    fmt='d',\n",
        "    cmap='Blues',\n",
        "    xticklabels=['Did Not Survive','Survived'],\n",
        "    yticklabels=['Did Not Survive','Survived'])\n",
        "plt.xlabel(\"Predicted\")\n",
        "plt.ylabel(\"Actual\")\n",
        "plt.title(\"Confusion Matrix - Titanic Survival\")\n",
        "plt.show()"
      ],
      "metadata": {
        "colab": {
          "base_uri": "https://localhost:8080/",
          "height": 410
        },
        "id": "FEZUAhIGseIc",
        "outputId": "38a606ee-ad3c-49dd-9447-4dadf2c5cdde"
      },
      "execution_count": 63,
      "outputs": [
        {
          "output_type": "display_data",
          "data": {
            "text/plain": [
              "<Figure size 500x400 with 2 Axes>"
            ],
            "image/png": "[encoded data removed]"
          },
          "metadata": {}
        }
      ]
    },
    {
      "cell_type": "code",
      "source": [
        "# Method to predict survival for new user-provided data\n",
        "def predict_survival(pclass, sex, age, fare):\n",
        "    sex_val = sex_encoder.transform([sex])[0]\n",
        "    input_df = pd.DataFrame([[pclass, sex_val, age, fare]],columns=['Pclass', 'Sex', 'Age', 'Fare'])\n",
        "    pred = rf_model.predict(input_df)[0]\n",
        "    return \"Survived\" if pred == 1 else \"Did not survive\"\n"
      ],
      "metadata": {
        "id": "Bf29WGcnsiC0"
      },
      "execution_count": 58,
      "outputs": []
    },
    {
      "cell_type": "code",
      "source": [
        "# Example test runs\n",
        "print(predict_survival(3, 'male', 25, 7.25))\n",
        "print(predict_survival(1, 'female', 30, 80.0))\n"
      ],
      "metadata": {
        "colab": {
          "base_uri": "https://localhost:8080/"
        },
        "id": "ujLpImw7suMF",
        "outputId": "bd146bcd-e710-4553-8285-04bdc681b3b3"
      },
      "execution_count": 59,
      "outputs": [
        {
          "output_type": "stream",
          "name": "stdout",
          "text": [
            "Did not survive\n",
            "Survived\n"
          ]
        }
      ]
    }
  ]
}